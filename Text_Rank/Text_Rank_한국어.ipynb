{
 "cells": [
  {
   "cell_type": "code",
   "execution_count": 21,
   "metadata": {},
   "outputs": [
    {
     "data": {
      "text/plain": [
       "['제가 본 영화를 한번 새해 봤습니다.',\n",
       " '그러니 한 스물의 가까이 너무 많이 본 거죠.',\n",
       " '정말 많이 보셨을 근데 시사합니다 전문대 연기에 대해서 잘 모르지만 스무 개의 작품들이 이렇게 관통하는 그 무엇인가가 연기를 관통하는 것인가 있지 않을까 돌이켜 생각해보면 본인은 물론 그렇지 않겠지만 쉽게 연기한다는 느낌이 부정적인 뜻이 아닙니다.',\n",
       " '무슨 뜻이냐 , 후배 관계자들에게도 툭 던진 듯이 연계 라는 얘기를 한다고 들었는데요.',\n",
       " '그렇습니까?']"
      ]
     },
     "execution_count": 21,
     "metadata": {},
     "output_type": "execute_result"
    }
   ],
   "source": [
    "kor=pd.read_csv(\"video_kor2_sentence.csv\")\n",
    "kor=kor.getPhraseText\n",
    "texts=[]\n",
    "for i in kor:\n",
    "    texts.append(i)\n",
    "texts"
   ]
  },
  {
   "cell_type": "code",
   "execution_count": 28,
   "metadata": {},
   "outputs": [],
   "source": [
    "from krwordrank.word import KRWordRank\n",
    "\n",
    "min_count = 2   # 단어의 최소 출현 빈도수 (그래프 생성 시)\n",
    "max_length = 10 # 단어의 최대 길이\n",
    "wordrank_extractor = KRWordRank(min_count=min_count, max_length=max_length)"
   ]
  },
  {
   "cell_type": "code",
   "execution_count": 29,
   "metadata": {},
   "outputs": [
    {
     "name": "stdout",
     "output_type": "stream",
     "text": [
      "    관통하는:\t1.6925\n",
      "      그렇:\t1.0000\n",
      "      많이:\t0.7018\n",
      "      연기:\t0.6537\n"
     ]
    }
   ],
   "source": [
    "beta = 0.85    # PageRank의 decaying factor beta\n",
    "max_iter = 10\n",
    "texts = texts\n",
    "keywords, rank, graph = wordrank_extractor.extract(texts, beta, max_iter)\n",
    "for word, r in sorted(keywords.items(), key=lambda x:x[1], reverse=True)[:30]:\n",
    "        print('%8s:\\t%.4f' % (word, r))"
   ]
  }
 ],
 "metadata": {
  "kernelspec": {
   "display_name": "Python 3",
   "language": "python",
   "name": "python3"
  },
  "language_info": {
   "codemirror_mode": {
    "name": "ipython",
    "version": 3
   },
   "file_extension": ".py",
   "mimetype": "text/x-python",
   "name": "python",
   "nbconvert_exporter": "python",
   "pygments_lexer": "ipython3",
   "version": "3.7.6"
  }
 },
 "nbformat": 4,
 "nbformat_minor": 2
}
